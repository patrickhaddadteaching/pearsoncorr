{
  "nbformat": 4,
  "nbformat_minor": 0,
  "metadata": {
    "colab": {
      "name": "pearsoncorr_binder.ipynb",
      "provenance": [],
      "authorship_tag": "ABX9TyMCasA/2XupwBUcQMeIIKDY"
    },
    "kernelspec": {
      "name": "python3",
      "display_name": "Python 3"
    },
    "language_info": {
      "name": "python"
    },
    "widgets": {
      "application/vnd.jupyter.widget-state+json": {
        "8cc5e2a85f8c4ba8a9d46e8bcb4c4c48": {
          "model_module": "@jupyter-widgets/controls",
          "model_name": "VBoxModel",
          "state": {
            "_view_name": "VBoxView",
            "_dom_classes": [
              "widget-interact"
            ],
            "_model_name": "VBoxModel",
            "_view_module": "@jupyter-widgets/controls",
            "_model_module_version": "1.5.0",
            "_view_count": null,
            "_view_module_version": "1.5.0",
            "box_style": "",
            "layout": "IPY_MODEL_d74d74436d9a4c8da9d1a3a26ba04ed8",
            "_model_module": "@jupyter-widgets/controls",
            "children": [
              "IPY_MODEL_330d0203adaf433194f61767bae577d0",
              "IPY_MODEL_bbe1db3a158945d3aac472035b634b9e",
              "IPY_MODEL_9fd98be8ea7741609dc4e8b58bda42e1",
              "IPY_MODEL_e85f8c5a25a54619864f80ccfdcfa7d4"
            ]
          }
        },
        "d74d74436d9a4c8da9d1a3a26ba04ed8": {
          "model_module": "@jupyter-widgets/base",
          "model_name": "LayoutModel",
          "state": {
            "_view_name": "LayoutView",
            "grid_template_rows": null,
            "right": null,
            "justify_content": null,
            "_view_module": "@jupyter-widgets/base",
            "overflow": null,
            "_model_module_version": "1.2.0",
            "_view_count": null,
            "flex_flow": null,
            "width": null,
            "min_width": null,
            "border": null,
            "align_items": null,
            "bottom": null,
            "_model_module": "@jupyter-widgets/base",
            "top": null,
            "grid_column": null,
            "overflow_y": null,
            "overflow_x": null,
            "grid_auto_flow": null,
            "grid_area": null,
            "grid_template_columns": null,
            "flex": null,
            "_model_name": "LayoutModel",
            "justify_items": null,
            "grid_row": null,
            "max_height": null,
            "align_content": null,
            "visibility": null,
            "align_self": null,
            "height": null,
            "min_height": null,
            "padding": null,
            "grid_auto_rows": null,
            "grid_gap": null,
            "max_width": null,
            "order": null,
            "_view_module_version": "1.2.0",
            "grid_template_areas": null,
            "object_position": null,
            "object_fit": null,
            "grid_auto_columns": null,
            "margin": null,
            "display": null,
            "left": null
          }
        },
        "330d0203adaf433194f61767bae577d0": {
          "model_module": "@jupyter-widgets/controls",
          "model_name": "FloatSliderModel",
          "state": {
            "_view_name": "FloatSliderView",
            "style": "IPY_MODEL_0a65df8a32dd4554ac98556426998304",
            "_dom_classes": [],
            "description": "Min_Z",
            "step": 0.1,
            "_model_name": "FloatSliderModel",
            "orientation": "horizontal",
            "max": 100,
            "_view_module": "@jupyter-widgets/controls",
            "_model_module_version": "1.5.0",
            "value": 100,
            "_view_count": null,
            "disabled": false,
            "_view_module_version": "1.5.0",
            "min": -100,
            "continuous_update": true,
            "readout_format": ".2f",
            "description_tooltip": null,
            "readout": true,
            "_model_module": "@jupyter-widgets/controls",
            "layout": "IPY_MODEL_0cc0e56e71b147b492179226f4860bd7"
          }
        },
        "bbe1db3a158945d3aac472035b634b9e": {
          "model_module": "@jupyter-widgets/controls",
          "model_name": "FloatSliderModel",
          "state": {
            "_view_name": "FloatSliderView",
            "style": "IPY_MODEL_19b1dac866d54e538a9ef02672d954f1",
            "_dom_classes": [],
            "description": "Max_Z",
            "step": 0.1,
            "_model_name": "FloatSliderModel",
            "orientation": "horizontal",
            "max": 100,
            "_view_module": "@jupyter-widgets/controls",
            "_model_module_version": "1.5.0",
            "value": -100,
            "_view_count": null,
            "disabled": false,
            "_view_module_version": "1.5.0",
            "min": -100,
            "continuous_update": true,
            "readout_format": ".2f",
            "description_tooltip": null,
            "readout": true,
            "_model_module": "@jupyter-widgets/controls",
            "layout": "IPY_MODEL_41a2054d6b19412a8f08b9da55b342c9"
          }
        },
        "9fd98be8ea7741609dc4e8b58bda42e1": {
          "model_module": "@jupyter-widgets/controls",
          "model_name": "FloatSliderModel",
          "state": {
            "_view_name": "FloatSliderView",
            "style": "IPY_MODEL_365ac064198742cc9f1c78695b83f940",
            "_dom_classes": [],
            "description": "L",
            "step": 0.1,
            "_model_name": "FloatSliderModel",
            "orientation": "horizontal",
            "max": 100,
            "_view_module": "@jupyter-widgets/controls",
            "_model_module_version": "1.5.0",
            "value": 100,
            "_view_count": null,
            "disabled": false,
            "_view_module_version": "1.5.0",
            "min": -100,
            "continuous_update": true,
            "readout_format": ".2f",
            "description_tooltip": null,
            "readout": true,
            "_model_module": "@jupyter-widgets/controls",
            "layout": "IPY_MODEL_3d8f26b781eb4dc9b8dbc54a3d426beb"
          }
        },
        "e85f8c5a25a54619864f80ccfdcfa7d4": {
          "model_module": "@jupyter-widgets/output",
          "model_name": "OutputModel",
          "state": {
            "_view_name": "OutputView",
            "msg_id": "",
            "_dom_classes": [],
            "_model_name": "OutputModel",
            "outputs": [
              {
                "output_type": "display_data",
                "metadata": {
                  "tags": [],
                  "needs_background": "light"
                },
                "image/png": "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\n",
                "text/plain": "<Figure size 432x288 with 1 Axes>"
              }
            ],
            "_view_module": "@jupyter-widgets/output",
            "_model_module_version": "1.0.0",
            "_view_count": null,
            "_view_module_version": "1.0.0",
            "layout": "IPY_MODEL_385eab8d8dab417aac89621178ed6af0",
            "_model_module": "@jupyter-widgets/output"
          }
        },
        "0a65df8a32dd4554ac98556426998304": {
          "model_module": "@jupyter-widgets/controls",
          "model_name": "SliderStyleModel",
          "state": {
            "_view_name": "StyleView",
            "handle_color": null,
            "_model_name": "SliderStyleModel",
            "description_width": "",
            "_view_module": "@jupyter-widgets/base",
            "_model_module_version": "1.5.0",
            "_view_count": null,
            "_view_module_version": "1.2.0",
            "_model_module": "@jupyter-widgets/controls"
          }
        },
        "0cc0e56e71b147b492179226f4860bd7": {
          "model_module": "@jupyter-widgets/base",
          "model_name": "LayoutModel",
          "state": {
            "_view_name": "LayoutView",
            "grid_template_rows": null,
            "right": null,
            "justify_content": null,
            "_view_module": "@jupyter-widgets/base",
            "overflow": null,
            "_model_module_version": "1.2.0",
            "_view_count": null,
            "flex_flow": null,
            "width": null,
            "min_width": null,
            "border": null,
            "align_items": null,
            "bottom": null,
            "_model_module": "@jupyter-widgets/base",
            "top": null,
            "grid_column": null,
            "overflow_y": null,
            "overflow_x": null,
            "grid_auto_flow": null,
            "grid_area": null,
            "grid_template_columns": null,
            "flex": null,
            "_model_name": "LayoutModel",
            "justify_items": null,
            "grid_row": null,
            "max_height": null,
            "align_content": null,
            "visibility": null,
            "align_self": null,
            "height": null,
            "min_height": null,
            "padding": null,
            "grid_auto_rows": null,
            "grid_gap": null,
            "max_width": null,
            "order": null,
            "_view_module_version": "1.2.0",
            "grid_template_areas": null,
            "object_position": null,
            "object_fit": null,
            "grid_auto_columns": null,
            "margin": null,
            "display": null,
            "left": null
          }
        },
        "19b1dac866d54e538a9ef02672d954f1": {
          "model_module": "@jupyter-widgets/controls",
          "model_name": "SliderStyleModel",
          "state": {
            "_view_name": "StyleView",
            "handle_color": null,
            "_model_name": "SliderStyleModel",
            "description_width": "",
            "_view_module": "@jupyter-widgets/base",
            "_model_module_version": "1.5.0",
            "_view_count": null,
            "_view_module_version": "1.2.0",
            "_model_module": "@jupyter-widgets/controls"
          }
        },
        "41a2054d6b19412a8f08b9da55b342c9": {
          "model_module": "@jupyter-widgets/base",
          "model_name": "LayoutModel",
          "state": {
            "_view_name": "LayoutView",
            "grid_template_rows": null,
            "right": null,
            "justify_content": null,
            "_view_module": "@jupyter-widgets/base",
            "overflow": null,
            "_model_module_version": "1.2.0",
            "_view_count": null,
            "flex_flow": null,
            "width": null,
            "min_width": null,
            "border": null,
            "align_items": null,
            "bottom": null,
            "_model_module": "@jupyter-widgets/base",
            "top": null,
            "grid_column": null,
            "overflow_y": null,
            "overflow_x": null,
            "grid_auto_flow": null,
            "grid_area": null,
            "grid_template_columns": null,
            "flex": null,
            "_model_name": "LayoutModel",
            "justify_items": null,
            "grid_row": null,
            "max_height": null,
            "align_content": null,
            "visibility": null,
            "align_self": null,
            "height": null,
            "min_height": null,
            "padding": null,
            "grid_auto_rows": null,
            "grid_gap": null,
            "max_width": null,
            "order": null,
            "_view_module_version": "1.2.0",
            "grid_template_areas": null,
            "object_position": null,
            "object_fit": null,
            "grid_auto_columns": null,
            "margin": null,
            "display": null,
            "left": null
          }
        },
        "365ac064198742cc9f1c78695b83f940": {
          "model_module": "@jupyter-widgets/controls",
          "model_name": "SliderStyleModel",
          "state": {
            "_view_name": "StyleView",
            "handle_color": null,
            "_model_name": "SliderStyleModel",
            "description_width": "",
            "_view_module": "@jupyter-widgets/base",
            "_model_module_version": "1.5.0",
            "_view_count": null,
            "_view_module_version": "1.2.0",
            "_model_module": "@jupyter-widgets/controls"
          }
        },
        "3d8f26b781eb4dc9b8dbc54a3d426beb": {
          "model_module": "@jupyter-widgets/base",
          "model_name": "LayoutModel",
          "state": {
            "_view_name": "LayoutView",
            "grid_template_rows": null,
            "right": null,
            "justify_content": null,
            "_view_module": "@jupyter-widgets/base",
            "overflow": null,
            "_model_module_version": "1.2.0",
            "_view_count": null,
            "flex_flow": null,
            "width": null,
            "min_width": null,
            "border": null,
            "align_items": null,
            "bottom": null,
            "_model_module": "@jupyter-widgets/base",
            "top": null,
            "grid_column": null,
            "overflow_y": null,
            "overflow_x": null,
            "grid_auto_flow": null,
            "grid_area": null,
            "grid_template_columns": null,
            "flex": null,
            "_model_name": "LayoutModel",
            "justify_items": null,
            "grid_row": null,
            "max_height": null,
            "align_content": null,
            "visibility": null,
            "align_self": null,
            "height": null,
            "min_height": null,
            "padding": null,
            "grid_auto_rows": null,
            "grid_gap": null,
            "max_width": null,
            "order": null,
            "_view_module_version": "1.2.0",
            "grid_template_areas": null,
            "object_position": null,
            "object_fit": null,
            "grid_auto_columns": null,
            "margin": null,
            "display": null,
            "left": null
          }
        },
        "385eab8d8dab417aac89621178ed6af0": {
          "model_module": "@jupyter-widgets/base",
          "model_name": "LayoutModel",
          "state": {
            "_view_name": "LayoutView",
            "grid_template_rows": null,
            "right": null,
            "justify_content": null,
            "_view_module": "@jupyter-widgets/base",
            "overflow": null,
            "_model_module_version": "1.2.0",
            "_view_count": null,
            "flex_flow": null,
            "width": null,
            "min_width": null,
            "border": null,
            "align_items": null,
            "bottom": null,
            "_model_module": "@jupyter-widgets/base",
            "top": null,
            "grid_column": null,
            "overflow_y": null,
            "overflow_x": null,
            "grid_auto_flow": null,
            "grid_area": null,
            "grid_template_columns": null,
            "flex": null,
            "_model_name": "LayoutModel",
            "justify_items": null,
            "grid_row": null,
            "max_height": null,
            "align_content": null,
            "visibility": null,
            "align_self": null,
            "height": null,
            "min_height": null,
            "padding": null,
            "grid_auto_rows": null,
            "grid_gap": null,
            "max_width": null,
            "order": null,
            "_view_module_version": "1.2.0",
            "grid_template_areas": null,
            "object_position": null,
            "object_fit": null,
            "grid_auto_columns": null,
            "margin": null,
            "display": null,
            "left": null
          }
        }
      }
    }
  },
  "cells": [
    {
      "cell_type": "code",
      "metadata": {
        "id": "gCyODEqwmWI1"
      },
      "source": [
        "from ipywidgets import interact, interact_manual, widgets\n",
        "import numpy as np\n",
        "from numpy.random import randn\n",
        "import matplotlib.pyplot as plt"
      ],
      "execution_count": null,
      "outputs": []
    },
    {
      "cell_type": "code",
      "metadata": {
        "id": "nLZnIUGzny5I"
      },
      "source": [
        "def pearson_correlation_exemple(Min_Z=-0.1,Max_Z=0.1,L=0.0):\n",
        "  Min_X=0.0;\n",
        "  Max_X=9.0\n",
        "  nb_pt=1024\n",
        "  V_X=Min_X+np.random.rand(nb_pt)*(Max_X-Min_X)\n",
        "  V_Z=Max_Z+np.random.rand(nb_pt)*(Max_Z-Min_Z)\n",
        "  V_Y=V_X*L+V_Z\n",
        "\n",
        "  [a,b]=np.polyfit(V_X,V_Y,1)\n",
        "  V_reg=V_X*a+b\n",
        "  r2_denum=V_Y.std()*V_reg.std()\n",
        "  if r2_denum!=0:\n",
        "    R2=np.cov(V_reg,V_Y)[1,0]/r2_denum\n",
        "  else:\n",
        "    R2=0\n",
        "  plt.plot(V_X,V_Y,'.')\n",
        "  plt.plot(V_X,V_X*a+b,label='%.2f.x+%.2f         R=%.2f'%(a,b,np.sqrt(R2)))\n",
        "  plt.xlabel('X')\n",
        "  plt.ylabel('Y')\n",
        "  plt.legend()\n",
        "  plt.show()"
      ],
      "execution_count": null,
      "outputs": []
    },
    {
      "cell_type": "code",
      "metadata": {
        "colab": {
          "base_uri": "https://localhost:8080/",
          "height": 375,
          "referenced_widgets": [
            "8cc5e2a85f8c4ba8a9d46e8bcb4c4c48",
            "d74d74436d9a4c8da9d1a3a26ba04ed8",
            "330d0203adaf433194f61767bae577d0",
            "bbe1db3a158945d3aac472035b634b9e",
            "9fd98be8ea7741609dc4e8b58bda42e1",
            "e85f8c5a25a54619864f80ccfdcfa7d4",
            "0a65df8a32dd4554ac98556426998304",
            "0cc0e56e71b147b492179226f4860bd7",
            "19b1dac866d54e538a9ef02672d954f1",
            "41a2054d6b19412a8f08b9da55b342c9",
            "365ac064198742cc9f1c78695b83f940",
            "3d8f26b781eb4dc9b8dbc54a3d426beb",
            "385eab8d8dab417aac89621178ed6af0"
          ]
        },
        "id": "vvITBlmKn1wF",
        "outputId": "a7799c9a-d8aa-4504-a287-6713ecd2c583"
      },
      "source": [
        "im = interact(pearson_correlation_exemple)\n",
        "im.widget.children[0].min=-100\n",
        "im.widget.children[0].max=100\n",
        "\n",
        "im.widget.children[1].min=-100\n",
        "im.widget.children[1].max=100\n",
        "\n",
        "im.widget.children[2].min=-100\n",
        "im.widget.children[2].max=100"
      ],
      "execution_count": null,
      "outputs": [
        {
          "output_type": "display_data",
          "data": {
            "application/vnd.jupyter.widget-view+json": {
              "model_id": "8cc5e2a85f8c4ba8a9d46e8bcb4c4c48",
              "version_minor": 0,
              "version_major": 2
            },
            "text/plain": [
              "interactive(children=(FloatSlider(value=-0.1, description='Min_Z', max=0.1, min=-0.30000000000000004), FloatSl…"
            ]
          },
          "metadata": {
            "tags": []
          }
        }
      ]
    },
    {
      "cell_type": "code",
      "metadata": {
        "id": "9sex7oxCn3Ue"
      },
      "source": [
        ""
      ],
      "execution_count": null,
      "outputs": []
    }
  ]
}